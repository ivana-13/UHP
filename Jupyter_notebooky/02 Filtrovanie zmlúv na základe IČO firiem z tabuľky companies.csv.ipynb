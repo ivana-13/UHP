{
 "cells": [
  {
   "cell_type": "markdown",
   "metadata": {},
   "source": [
    "Nasledujúci kód vyprodukuje databázu **CRZ_DB_clean.csv** obsahujúcu iba relevantné zmluvy a tabuľky.\n",
    "Ako vstup používa databázu zmlúv obsahujúcu dodatky **CRZ_DB_with_supplements.csv** a zoznam firiem IČO **companies.csv** vyprodukovaných na základe Jupyter notebooku **Vyfiltrovanie zaujímavých firiem na základe SK_NACE kódov**."
   ]
  },
  {
   "cell_type": "code",
   "execution_count": null,
   "metadata": {},
   "outputs": [],
   "source": [
    "import os\n",
    "import xml.etree.cElementTree as ET\n",
    "import numpy as np\n",
    "import pandas as pd\n",
    "\n",
    "DB    = pd.read_csv('CRZ_DB_with_supplements.csv', delimiter = '|')\n",
    "print('DB of contracts loaded in memory.')\n",
    "print('Filtering relevant contracts')\n",
    "number_of_contracts = DB.shape[0]\n",
    "\n",
    "companies = pd.read_csv('companies.csv', delimiter = '|')\n",
    "companies = companies['ICO'].tolist()\n",
    "companies = [str(x) for x in companies]\n",
    "remove = []\n",
    "\n",
    "# Scan the dumped DB and remove contracts in which supplier is not company from the provided list\n",
    "for i in range(0, number_of_contracts):\n",
    "    if (i % 1000 == 0):\n",
    "        print(i,'/',number_of_contracts)\n",
    "\n",
    "    if not(str(DB.iloc[i,8]).replace(\" \",\"\") in companies):\n",
    "        remove.append(i)\n",
    "\n",
    "print('Find relevant: ', number_of_contracts-len(remove),' out of ',number_of_contracts)\n",
    "\n",
    "# Clean irrelevant\n",
    "DB_clean = DB.drop(DB.index[remove])\n",
    "\n",
    "# Produce the rest\n",
    "header = ['Nazov','ID','Inner-ID','Objednavatel_ICO','Objednavatel','Objednavatel_adresa','Dodavatel_ICO','Dodavatel','Dodavatel_adresa',\n",
    "            'Datum_zverejnenia','Datum_podpisu','Datum_platnosti','Datum_ucinnosti','Posledna_zmena','Cena_konecna','Cena_podpisana','Rezort','Typ','Stav','Prilohy','Dodatky']\n",
    "\n",
    "DB_clean.iloc[:,2:].to_csv('CRZ_DB_clean.csv', header = header, sep='|')"
   ]
  }
 ],
 "metadata": {
  "kernelspec": {
   "display_name": "Python 3",
   "language": "python",
   "name": "python3"
  },
  "language_info": {
   "codemirror_mode": {
    "name": "ipython",
    "version": 3
   },
   "file_extension": ".py",
   "mimetype": "text/x-python",
   "name": "python",
   "nbconvert_exporter": "python",
   "pygments_lexer": "ipython3",
   "version": "3.7.3"
  }
 },
 "nbformat": 4,
 "nbformat_minor": 2
}
