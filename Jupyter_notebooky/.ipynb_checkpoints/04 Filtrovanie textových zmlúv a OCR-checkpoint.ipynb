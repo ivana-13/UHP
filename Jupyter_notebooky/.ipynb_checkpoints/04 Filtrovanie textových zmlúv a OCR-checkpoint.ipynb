{
 "cells": [
  {
   "cell_type": "markdown",
   "metadata": {},
   "source": [
    "Nasledujúci skript nám umožní vyfiltrovať textové zmluvy. Nad tými zmluvami, ktoré boli naskenované vieme zbehnúť OCR - strojový prevod naskenovaných dokumentov do textu."
   ]
  },
  {
   "cell_type": "code",
   "execution_count": null,
   "metadata": {},
   "outputs": [],
   "source": [
    "import os\n",
    "import re\n",
    "\n",
    "if not os.path.exists('contracts_text'):\n",
    "    os.makedirs('contracts_text')\n",
    "\n",
    "if not os.path.exists('contracts_scan'):\n",
    "    os.makedirs('contracts_scan')\n",
    "\n",
    "raw_dir   = os.getcwd()+'\\\\contracts\\\\'\n",
    "text_dir = os.getcwd()+'\\\\contracts_text\\\\'\n",
    "scan_dir = os.getcwd()+'\\\\contracts_scan\\\\'\n",
    "\n",
    "contracts = [f for f in os.listdir(raw_dir) if os.path.isfile(os.path.join(raw_dir, f))]\n",
    "\n",
    "i = 0\n",
    "n = len(contracts)\n",
    "\n",
    "for contract in contracts:\n",
    "    i += 1\n",
    "    print('Processing contract ',contract,' ',i,' out of ',n)\n",
    "\n",
    "    try:\n",
    "        os.system('pdftotext '+raw_dir+contract+' output.txt')\n",
    "    \n",
    "        fo = open('output.txt','r', encoding='utf8')\n",
    "        lines = fo.readlines()\n",
    "        fo.close()\n",
    "\n",
    "        file = ''\n",
    "        for line in lines:\n",
    "            file += line\n",
    "\n",
    "        del lines\n",
    "        \n",
    "        check_file   = re.sub(r'\\s+', '', file, flags=re.UNICODE)\n",
    "\n",
    "        if (len(check_file)>0):\n",
    "            os.system('move '+raw_dir+contract+' '+text_dir+contract)\n",
    "            os.system('move output.txt '+text_dir+contract.replace('.pdf','.txt'))\n",
    "            print('Moved to '+text_dir)\n",
    "        else:\n",
    "            os.system('move '+raw_dir+contract+' '+scan_dir+contract)\n",
    "            print('Moved to '+scan_dir)\n",
    "\n",
    "    except:\n",
    "        os.system('move '+raw_dir+contract+' '+scan_dir+contract)\n",
    "        print('Moved to '+scan_dir)"
   ]
  },
  {
   "cell_type": "markdown",
   "metadata": {},
   "source": [
    "Dokumenty, ktoré boli naskenované sa môžeme pokúsiť previesť na text pomocou programu Tesseract od Googlu."
   ]
  },
  {
   "cell_type": "code",
   "execution_count": null,
   "metadata": {},
   "outputs": [],
   "source": [
    "import os\n",
    "import subprocess\n",
    "import re\n",
    "\n",
    "find_number = re.compile(r'\\d+')\n",
    "FNULL = open(os.devnull, 'w')\n",
    "\n",
    "def natural_sort(l):\n",
    "    convert = lambda text: int(text) if text.isdigit() else text.lower()\n",
    "    alphanum_key = lambda key: [convert(c) for c in re.split('([0-9]+)', key)]\n",
    "    return sorted(l, key = alphanum_key)\n",
    "\n",
    "scan_dir = os.getcwd()+'\\\\contracts_scan\\\\'\n",
    "contracts = [f for f in os.listdir(scan_dir) if os.path.isfile(os.path.join(scan_dir, f))]\n",
    "\n",
    "N_contracts = len(contracts)\n",
    "\n",
    "for i,contract in enumerate(contracts):\n",
    "    print('Processing contract:',contract,' ',i+1,'out of',N_contracts)\n",
    "\n",
    "    # Convert PDF to PNG images\n",
    "    # -r specifies DPI\n",
    "    # -gray is for grayscale image\n",
    "    print('\\tRendering pages from PDF ...')\n",
    "\n",
    "    retcode = subprocess.call('pdftopng -q -r 350 -gray '+os.path.join(scan_dir,contract)+' '+os.path.join(scan_dir,'output'), stdout=FNULL, stderr=subprocess.STDOUT)\n",
    "    output_files = [f for f in os.listdir(scan_dir) if os.path.isfile(os.path.join(scan_dir, f)) and 'output' in f]\n",
    "    output_files = natural_sort(output_files)\n",
    "\n",
    "    # Detect rotation and auto-rotate image\n",
    "    # ...\n",
    "\n",
    "    # Perform OCR by Tesseract\n",
    "    text = ''\n",
    "    for page in output_files:\n",
    "        print('\\tOCR on page:',int(find_number.findall(page)[0]))\n",
    "        retcode = subprocess.call('tesseract '+os.path.join(scan_dir,page)+' '+os.path.join(scan_dir,'output')+' -l eng+ces+slk', stdout=FNULL, stderr=subprocess.STDOUT)\n",
    "        fo = open(os.path.join(scan_dir,'output.txt'),'r', encoding = 'utf-8')\n",
    "        lines = fo.readlines()\n",
    "        fo.close()\n",
    "\n",
    "        for line in lines:\n",
    "            text += line\n",
    "\n",
    "    # Save results\n",
    "    fo = open(os.path.join(scan_dir,contract.replace('.pdf','.txt')),'w', encoding = 'utf-8')\n",
    "    fo.write(text)\n",
    "    fo.close()\n",
    "\n",
    "    # Delete temporary files\n",
    "    os.system('del '+os.path.join(scan_dir,'output*'))"
   ]
  },
  {
   "cell_type": "markdown",
   "metadata": {},
   "source": [
    "Po vykonaní OCR môžeme, dokumenty ku ktorým bla úspešne vykonaná OCR analýza, previesť naspäť do priečinku z textovými dokumentami."
   ]
  },
  {
   "cell_type": "code",
   "execution_count": null,
   "metadata": {},
   "outputs": [],
   "source": [
    "import os\n",
    "import re\n",
    "\n",
    "text_dir = os.getcwd()+'\\\\contracts_text\\\\'\n",
    "scan_dir = os.getcwd()+'\\\\contracts_scan\\\\'\n",
    "\n",
    "contracts_pdf = [f for f in os.listdir(scan_dir) if os.path.isfile(os.path.join(scan_dir, f)) and 'pdf' in f]\n",
    "contracts_txt = [f for f in os.listdir(scan_dir) if os.path.isfile(os.path.join(scan_dir, f)) and 'txt' in f]\n",
    "\n",
    "for contract in contracts_txt:\n",
    "    os.system('move '+scan_dir+contract+' '+text_dir+contract)\n",
    "    os.system('move '+scan_dir+contract.replace('txt','pdf')+' '+text_dir+contract.replace('txt','pdf'))"
   ]
  }
 ],
 "metadata": {
  "kernelspec": {
   "display_name": "Python 3",
   "language": "python",
   "name": "python3"
  },
  "language_info": {
   "codemirror_mode": {
    "name": "ipython",
    "version": 3
   },
   "file_extension": ".py",
   "mimetype": "text/x-python",
   "name": "python",
   "nbconvert_exporter": "python",
   "pygments_lexer": "ipython3",
   "version": "3.7.3"
  }
 },
 "nbformat": 4,
 "nbformat_minor": 2
}
