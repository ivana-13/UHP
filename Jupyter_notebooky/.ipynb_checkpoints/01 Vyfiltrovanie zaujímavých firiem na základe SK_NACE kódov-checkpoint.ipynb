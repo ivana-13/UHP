{
 "cells": [
  {
   "cell_type": "markdown",
   "metadata": {},
   "source": [
    "### Čo dokáže robiť tento Jupyter notebook? ###\n",
    "\n",
    "Tento Jupyter notebook pracuje s databázou Partnerov verejného sektora Ministerstva spravodlivosti a s Registrom účtovných uzávierok Ministerstva financií. Vďaka tomu dokáže k **IČO** partnerom priradiť **SK_NACE** kódy. Spojením týchto dvoch databáz, teda vieme vyfiltrovať relevantné firmy v určitých sektoroch zadaním **SK_NACE** kódov (výstupom je zoznam IČO firiem, ktoré sa sú v registri partnerov verejného sektora).\n",
    "\n",
    "Príklad využitia:\n",
    "- Chceme urobiť analýzu všetkých zmlúv viažúcich sa na bezpečnostné služby na Slovensku.\n",
    "- Chceme nájsť všetky zmluvy od dodávateľov elektriny, plynu, vody, spracujúcich odpad, poskytujúcich pripojenie na internet, atď."
   ]
  },
  {
   "cell_type": "markdown",
   "metadata": {},
   "source": [
    "Nasledujúci kód vybuduje databázu partnerov verejného sektora do tabuľky **DB_partners.csv**. \n",
    "Nasledujúce dve kódové časti netreba spúštať pokiaľ nechceme updatovať tabuľku **DB_partners.csv**."
   ]
  },
  {
   "cell_type": "code",
   "execution_count": null,
   "metadata": {},
   "outputs": [],
   "source": [
    "import json\n",
    "import requests\n",
    "import re\n",
    "import pandas as pd\n",
    "\n",
    "# Build DB of public partners\n",
    "# Using 'Register partnerov verejneho sektora'\n",
    "link = 'https://rpvs.gov.sk/OpenData/PartneriVerejnehoSektora'\n",
    "\n",
    "page = 0\n",
    "partners = 0\n",
    "row_list = []\n",
    "\n",
    "while link != '':\n",
    "    resp = requests.get(link)\n",
    "    content = resp.json()\n",
    "\n",
    "    page += 1\n",
    "    partners += len(content['value'])\n",
    "\n",
    "    print('Page:',page,' Partners:',partners)\n",
    "\n",
    "    for row in content['value']:\n",
    "        row_list.append(row)\n",
    "\n",
    "    try:\n",
    "        link = content['@odata.nextLink']\n",
    "    except:\n",
    "        link = ''\n",
    "\n",
    "    if (partners % 100 == 0):\n",
    "        DB = pd.DataFrame(row_list)\n",
    "        DB.to_csv('DB_partners.csv', sep = '|')\n",
    "\n",
    "DB = pd.DataFrame(row_list)\n",
    "DB.to_csv('DB_partners.csv', sep = '|')"
   ]
  },
  {
   "cell_type": "markdown",
   "metadata": {},
   "source": [
    "K partnerom potrebujeme priradiť ešte **SK_NACE** kódy:"
   ]
  },
  {
   "cell_type": "code",
   "execution_count": null,
   "metadata": {},
   "outputs": [],
   "source": [
    "import json\n",
    "import requests\n",
    "import re\n",
    "import pandas as pd\n",
    "from itertools import islice\n",
    "\n",
    "DB = pd.read_csv('DB_partners.csv', sep = '|')\n",
    "starting_row = 0\n",
    "\n",
    "# If it was unsuccessful last time let's try to do it again :)\n",
    "if not 'SK_NACE' in DB.columns:\n",
    "    DB['SK_NACE'] = ''\n",
    "else:\n",
    "    # Find latest occurrence of SK_NACE\n",
    "    for i in range(0,DB.shape[0]):\n",
    "        if not pd.isnull(DB.at[i,'SK_NACE']):\n",
    "            starting_row = i\n",
    "\n",
    "for index, row in islice(DB.iterrows(), starting_row, None):\n",
    "    print('Finding SK_NACE code for supplier',index+1,'out of',DB.shape[0])\n",
    "\n",
    "    accounting_IDs = []\n",
    "    SK_NACE_codes  = []\n",
    "\n",
    "    # Get IDs of Accounting items\n",
    "    if not pd.isnull(row['Ico']):\n",
    "        if row['Ico'].isdigit():\n",
    "            link = 'http://www.registeruz.sk/cruz-public/api/uctovne-jednotky?zmenene-od=2000-01-01&ico='+row['Ico']\n",
    "\n",
    "            resp = requests.get(link)\n",
    "            content = resp.json()\n",
    "\n",
    "            if 'id' in content:\n",
    "                accounting_IDs = content['id']\n",
    "                last = accounting_IDs[-1]\n",
    "\n",
    "                while content['pocetZostavajucichId']>0:\n",
    "                    resp = requests.get(link+'?pokracovat-za-id='+str(last))\n",
    "                    content = resp.json()\n",
    "                    accounting_IDs = accounting_IDs + content['id']\n",
    "                    last = accounting_IDs[-1]\n",
    "            else:\n",
    "                accounting_IDs = []\n",
    "\n",
    "    for ID in accounting_IDs:\n",
    "        link = 'http://www.registeruz.sk/cruz-public/api/uctovna-jednotka?id='+str(ID)\n",
    "\n",
    "        resp = requests.get(link)\n",
    "        content = resp.json()\n",
    "\n",
    "        if 'skNace' in content:\n",
    "            DB.at[index,'SK_NACE'] = content['skNace']\n",
    "\n",
    "    if (index % 50 == 0):\n",
    "        DB.to_csv('DB_partners.csv', sep = '|')"
   ]
  },
  {
   "cell_type": "markdown",
   "metadata": {},
   "source": [
    "Nasledujúci kód je najpodstatnejší, zo súboru **SK_NACE_codes.txt** načíta zoznam SK_NACE kódov, ku firmám ktoré hľadáme\n",
    "a vyprodukuje nám tabuľku spoločností **companies.csv** s IČO firiem, ktoré sú partneri verejného sektora a majú nejaký z SK_NACE kódov, ktorý sme poskytli\n",
    "v zozname **SK_NACE_codes.txt**. Túto tabuľku potrebujeme pre Jupyter notebook, ktorý vie fitrovať zmluvy na základe IČO firiem."
   ]
  },
  {
   "cell_type": "code",
   "execution_count": null,
   "metadata": {},
   "outputs": [],
   "source": [
    "import os\n",
    "import pandas as pd\n",
    "import re\n",
    "\n",
    "DB_partners = pd.read_csv('DB_partners.csv', sep=';', encoding='utf-8')\n",
    "\n",
    "fo = open('SK_NACE_codes.txt','r')\n",
    "lines = fo.readlines()\n",
    "fo.close()\n",
    "\n",
    "SK_NACE_codes = []\n",
    "for SK_NACE_code in lines:\n",
    "    SK_NACE_code = SK_NACE_code.strip()\n",
    "    SK_NACE_codes.append(int(SK_NACE_code))\n",
    "\n",
    "row_list = []\n",
    "for index, row in DB_partners.iterrows():\n",
    "    if row['SK_NACE'] in SK_NACE_codes:\n",
    "        new_row = dict()\n",
    "\n",
    "        new_row['ICO']     = row['Ico']\n",
    "        new_row['Nazov']   = row['ObchodneMeno']\n",
    "        if row['ObchodneMeno'] == '':\n",
    "            new_row['Nazov'] = row['Meno'] + ' ' + row['Priezvisko']\n",
    "\n",
    "        new_row['SK_NACE'] = row['SK_NACE']\n",
    "\n",
    "        row_list.append(new_row)\n",
    "\n",
    "DB_selected_partners = pd.DataFrame(row_list)\n",
    "DB_selected_partners.to_csv('companies.csv', sep='|')"
   ]
  }
 ],
 "metadata": {
  "kernelspec": {
   "display_name": "Python 3",
   "language": "python",
   "name": "python3"
  },
  "language_info": {
   "codemirror_mode": {
    "name": "ipython",
    "version": 3
   },
   "file_extension": ".py",
   "mimetype": "text/x-python",
   "name": "python",
   "nbconvert_exporter": "python",
   "pygments_lexer": "ipython3",
   "version": "3.7.3"
  }
 },
 "nbformat": 4,
 "nbformat_minor": 2
}
